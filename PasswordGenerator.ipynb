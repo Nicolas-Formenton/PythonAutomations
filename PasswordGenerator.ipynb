{
 "cells": [
  {
   "cell_type": "code",
   "execution_count": 3,
   "metadata": {},
   "outputs": [
    {
     "name": "stdout",
     "output_type": "stream",
     "text": [
      "tEfcEKPIN1\n",
      "Xbleeex2oN\n",
      "B5!r0f5GO9\n",
      "j{#V){xr7d\n",
      "M!AU5KR#5c\n",
      "UQhK*6ugX3\n",
      "#ln(7r?Qln\n",
      "OEbi?6dhe*\n",
      "Hum05Regv\\\n",
      "\\xMoTM4ign\n",
      "35O:8p14K#\n",
      "WNZR8mPX}@\n",
      "I#qgDir{43\n",
      "f4}H-xJB9a\n",
      "*ogysQ9y&c\n",
      "cPUp#uxV82\n",
      "76Z{Vp#aa-\n",
      "u#)9b&Kp3@\n",
      "GosDn-f?eT\n",
      "2itu}-*RHG\n",
      "\n",
      "Até mais. \n",
      "Finalizando...\n"
     ]
    }
   ],
   "source": [
    "import string\n",
    "import random\n",
    "\n",
    "caracteres = list(string.ascii_letters + string.digits + \"!@#$%&*()-{}?:\\|\")\n",
    "\n",
    "def main():\n",
    "\n",
    "    while True:\n",
    "\n",
    "        tamanho = int(input(\"Digite o tamanho da senha: \"))\n",
    "        qtd = int(input(\"Digite a quantidade de senhar a serem geradas: \"))\n",
    "\n",
    "        #Randomiza os caracteres\n",
    "        random.shuffle(caracteres)\n",
    "\n",
    "        #Laço de repetição p/ gerar a quantidade de senhas\n",
    "        for i in range(qtd):\n",
    "            #Seleciona os caracteres da lista e armazena na variável \"senha\"\n",
    "            senha = []\n",
    "\n",
    "            #Laço de repetição para gerar a senha com o tamanho selecionado pelo usuário\n",
    "            for i in range(tamanho):\n",
    "                senha.append(random.choice(caracteres))\n",
    "\n",
    "            #Randomiza os caracteres selecionados\n",
    "            random.shuffle(senha)\n",
    "\n",
    "            #Exibe a senha gerada\n",
    "            print(\"\".join(senha))\n",
    "\n",
    "        #Verifica se o usuário deseja executar o gerador novamente\n",
    "        checar = input(\"Gostaria de rodar o programa novamente? [S] SIM ou [N] NÃO: \")\n",
    "\n",
    "        #Se o usuário selecionar S, o programa é reiniciado a partir do WHILE\n",
    "        if checar.upper() == \"S\":\n",
    "            continue\n",
    "        \n",
    "        else: \n",
    "            print(\"\\nAté mais. \\nFinalizando...\")\n",
    "            break;\n",
    "\n",
    "#Executa a função main\n",
    "if __name__ == \"__main__\":\n",
    "    main()"
   ]
  }
 ],
 "metadata": {
  "kernelspec": {
   "display_name": "Python 3.10.7 64-bit",
   "language": "python",
   "name": "python3"
  },
  "language_info": {
   "codemirror_mode": {
    "name": "ipython",
    "version": 3
   },
   "file_extension": ".py",
   "mimetype": "text/x-python",
   "name": "python",
   "nbconvert_exporter": "python",
   "pygments_lexer": "ipython3",
   "version": "3.10.7"
  },
  "orig_nbformat": 4,
  "vscode": {
   "interpreter": {
    "hash": "369f2c481f4da34e4445cda3fffd2e751bd1c4d706f27375911949ba6bb62e1c"
   }
  }
 },
 "nbformat": 4,
 "nbformat_minor": 2
}
